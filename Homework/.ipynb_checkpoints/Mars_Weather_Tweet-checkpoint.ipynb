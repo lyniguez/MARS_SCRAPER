{
 "cells": [
  {
   "cell_type": "code",
   "execution_count": 1,
   "metadata": {
    "collapsed": true
   },
   "outputs": [],
   "source": [
    "# Dependencies\n",
    "import tweepy\n",
    "import json"
   ]
  },
  {
   "cell_type": "code",
   "execution_count": 2,
   "metadata": {
    "collapsed": true
   },
   "outputs": [],
   "source": [
    "# Twitter API Keys\n",
    "\n",
    "consumer_key = \"PrGevwVABchoG0o589r9BPTPM\"\n",
    "consumer_secret = \"wUJAaOLJdNgE2WIewNPYhhsqazrRCdSplJmwqqAm7Wh6pNejE8\"\n",
    "access_token = \"905540398994612227-t60QDxW0jHuOXAlPSTteYE1CyO6CMAZ\"\n",
    "access_token_secret = \"BdTYVNH6m2dUtkrFAf6PQyHuh22WD0U0r3onfivP7yjr7\"\n",
    "\n",
    "\n",
    "# Setup Tweepy API Authentication\n",
    "\n",
    "auth = tweepy.OAuthHandler(consumer_key, consumer_secret)\n",
    "auth.set_access_token(access_token, access_token_secret)\n",
    "api = tweepy.API(auth, parser=tweepy.parsers.JSONParser())"
   ]
  },
  {
   "cell_type": "code",
   "execution_count": 3,
   "metadata": {
    "collapsed": true
   },
   "outputs": [],
   "source": [
    "# Target User Account\n",
    "target_user = \"@MarsWxReport\""
   ]
  },
  {
   "cell_type": "code",
   "execution_count": 34,
   "metadata": {},
   "outputs": [
    {
     "name": "stdout",
     "output_type": "stream",
     "text": [
      "Sol 1955 (Feb 04, 2018), Sunny, high -21C/-5F, low -77C/-106F, pressure at 7.45 hPa, daylight 05:41-17:27\n"
     ]
    }
   ],
   "source": [
    "# Retrieve and print latest tweet\n",
    "mars_weather = api.user_timeline(target_user, count = 1)\n",
    "\n",
    "\n",
    "for tweet in mars_weather:\n",
    "    print(\"%s\" % (tweet[\"text\"]))\n",
    "   \n",
    "    "
   ]
  },
  {
   "cell_type": "code",
   "execution_count": 35,
   "metadata": {},
   "outputs": [
    {
     "name": "stdout",
     "output_type": "stream",
     "text": [
      "Sol 1955 (Feb 04, 2018), Sunny, high -21C/-5F, low -77C/-106F, pressure at 7.45 hPa, daylight 05:41-17:27\n"
     ]
    }
   ],
   "source": [
    "# Dependencies\n",
    "import tweepy\n",
    "import json\n",
    "\n",
    "# Twitter API Keys\n",
    "\n",
    "consumer_key = \"PrGevwVABchoG0o589r9BPTPM\"\n",
    "consumer_secret = \"wUJAaOLJdNgE2WIewNPYhhsqazrRCdSplJmwqqAm7Wh6pNejE8\"\n",
    "access_token = \"905540398994612227-t60QDxW0jHuOXAlPSTteYE1CyO6CMAZ\"\n",
    "access_token_secret = \"BdTYVNH6m2dUtkrFAf6PQyHuh22WD0U0r3onfivP7yjr7\"\n",
    "\n",
    "\n",
    "# Setup Tweepy API Authentication\n",
    "\n",
    "auth = tweepy.OAuthHandler(consumer_key, consumer_secret)\n",
    "auth.set_access_token(access_token, access_token_secret)\n",
    "api = tweepy.API(auth, parser=tweepy.parsers.JSONParser())\n",
    "\n",
    "# Target User Account\n",
    "target_user = \"@MarsWxReport\"\n",
    "\n",
    "# Retrieve and print latest tweet\n",
    "mars_weather = api.user_timeline(target_user, count = 1)\n",
    "\n",
    "for tweet in mars_weather:\n",
    "    print(\"%s\" % (tweet[\"text\"]))\n",
    "    mars_tweet = tweet[\"text\"]"
   ]
  },
  {
   "cell_type": "code",
   "execution_count": 36,
   "metadata": {},
   "outputs": [
    {
     "data": {
      "text/plain": [
       "'Sol 1955 (Feb 04, 2018), Sunny, high -21C/-5F, low -77C/-106F, pressure at 7.45 hPa, daylight 05:41-17:27'"
      ]
     },
     "execution_count": 36,
     "metadata": {},
     "output_type": "execute_result"
    }
   ],
   "source": [
    "mars_tweet"
   ]
  },
  {
   "cell_type": "markdown",
   "metadata": {},
   "source": []
  }
 ],
 "metadata": {
  "kernelspec": {
   "display_name": "Python 3",
   "language": "python",
   "name": "python3"
  },
  "language_info": {
   "codemirror_mode": {
    "name": "ipython",
    "version": 3
   },
   "file_extension": ".py",
   "mimetype": "text/x-python",
   "name": "python",
   "nbconvert_exporter": "python",
   "pygments_lexer": "ipython3",
   "version": "3.6.3"
  }
 },
 "nbformat": 4,
 "nbformat_minor": 2
}
